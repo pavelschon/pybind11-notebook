{
 "cells": [
  {
   "cell_type": "code",
   "execution_count": 1,
   "id": "8c7cd5a4-9165-42c2-a3cb-f5802309b037",
   "metadata": {},
   "outputs": [],
   "source": [
    "#pragma cling add_include_path(\"/home/diverman/miniforge3/include/python3.12/\")\n",
    "#pragma cling add_library_path(\"/home/diverman/miniforge3/lib\")\n",
    "#pragma cling load(\"python3.12\")"
   ]
  },
  {
   "cell_type": "code",
   "execution_count": 2,
   "id": "02585c2b-574b-49b9-bd92-d7856a1b5f40",
   "metadata": {},
   "outputs": [],
   "source": [
    "#include <pybind11/embed.h>\n",
    "#include <iostream>"
   ]
  },
  {
   "cell_type": "code",
   "execution_count": 3,
   "id": "38383846-179e-4fa1-85a3-1fd170599e57",
   "metadata": {},
   "outputs": [],
   "source": [
    "namespace py = pybind11;"
   ]
  },
  {
   "cell_type": "code",
   "execution_count": 4,
   "id": "a155d159-5d90-4d91-a5d0-e38ba05c6a3d",
   "metadata": {},
   "outputs": [],
   "source": [
    "void py_print(py::object o)\n",
    "{\n",
    "    std::cout << py::str(o).cast<std::string>() << \"\\n\";\n",
    "};"
   ]
  },
  {
   "cell_type": "code",
   "execution_count": 5,
   "id": "21c73821-fbeb-4455-b34e-5568a9df681e",
   "metadata": {},
   "outputs": [],
   "source": [
    "py::scoped_interpreter python;"
   ]
  },
  {
   "cell_type": "code",
   "execution_count": 6,
   "id": "d9fdf6a1-ec41-4d33-b81f-7610a77d5e72",
   "metadata": {},
   "outputs": [
    {
     "name": "stdout",
     "output_type": "stream",
     "text": [
      "Hello world\n"
     ]
    }
   ],
   "source": [
    "py::str s{\"Hello world\"};\n",
    "py_print(s);"
   ]
  }
 ],
 "metadata": {
  "kernelspec": {
   "display_name": "C++17",
   "language": "C++17",
   "name": "xcpp17"
  },
  "language_info": {
   "codemirror_mode": "text/x-c++src",
   "file_extension": ".cpp",
   "mimetype": "text/x-c++src",
   "name": "c++",
   "version": "17"
  }
 },
 "nbformat": 4,
 "nbformat_minor": 5
}
